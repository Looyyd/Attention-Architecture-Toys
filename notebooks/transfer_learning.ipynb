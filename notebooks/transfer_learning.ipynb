{
 "cells": [
  {
   "cell_type": "code",
   "execution_count": 1,
   "metadata": {
    "collapsed": true,
    "ExecuteTime": {
     "end_time": "2023-07-07T18:22:59.452375Z",
     "start_time": "2023-07-07T18:22:54.068281Z"
    }
   },
   "outputs": [],
   "source": [
    "import tensorflow as tf\n",
    "from keras.models import Sequential\n",
    "from keras.layers import Flatten, Dense\n",
    "from keras.datasets import mnist\n",
    "import numpy as np"
   ]
  },
  {
   "cell_type": "code",
   "execution_count": 10,
   "outputs": [
    {
     "name": "stdout",
     "output_type": "stream",
     "text": [
      "Epoch 1/5\n",
      "957/957 [==============================] - 1s 1ms/step - loss: 0.1137 - accuracy: 0.9670\n",
      "Epoch 2/5\n",
      "957/957 [==============================] - 1s 1ms/step - loss: 0.0452 - accuracy: 0.9866\n",
      "Epoch 3/5\n",
      "957/957 [==============================] - 1s 1ms/step - loss: 0.0260 - accuracy: 0.9916\n",
      "Epoch 4/5\n",
      "957/957 [==============================] - 1s 1ms/step - loss: 0.0189 - accuracy: 0.9940\n",
      "Epoch 5/5\n",
      "957/957 [==============================] - 1s 1ms/step - loss: 0.0129 - accuracy: 0.9964\n"
     ]
    },
    {
     "data": {
      "text/plain": "<keras.callbacks.History at 0x299288970>"
     },
     "execution_count": 10,
     "metadata": {},
     "output_type": "execute_result"
    }
   ],
   "source": [
    "\n",
    "# Load MNIST dataset\n",
    "(x_train, y_train), (x_test, y_test) = mnist.load_data()\n",
    "\n",
    "# Normalize data\n",
    "x_train, x_test = x_train / 255.0, x_test / 255.0\n",
    "\n",
    "# Filter dataset for digits 0-4\n",
    "x_train_small = x_train[np.where(y_train<5)[0]]\n",
    "y_train_small = y_train[np.where(y_train<5)[0]]\n",
    "\n",
    "# Define model\n",
    "model_small = Sequential([\n",
    "  Flatten(input_shape=(28, 28)),\n",
    "  Dense(128, activation='relu'),\n",
    "  Dense(5, activation='softmax')\n",
    "])\n",
    "\n",
    "# Compile model\n",
    "model_small.compile(optimizer='adam',\n",
    "              loss=tf.keras.losses.SparseCategoricalCrossentropy(),\n",
    "              metrics=['accuracy'])\n",
    "\n",
    "# Train model\n",
    "model_small.fit(x_train_small, y_train_small, epochs=5)\n"
   ],
   "metadata": {
    "collapsed": false,
    "ExecuteTime": {
     "end_time": "2023-07-07T18:55:12.884373Z",
     "start_time": "2023-07-07T18:55:07.001973Z"
    }
   }
  },
  {
   "cell_type": "code",
   "execution_count": 11,
   "outputs": [
    {
     "name": "stdout",
     "output_type": "stream",
     "text": [
      "Epoch 1/5\n",
      "919/919 [==============================] - 1s 1ms/step - loss: 1.6760 - accuracy: 0.3180\n",
      "Epoch 2/5\n",
      "919/919 [==============================] - 1s 1ms/step - loss: 0.9178 - accuracy: 0.6954\n",
      "Epoch 3/5\n",
      "919/919 [==============================] - 1s 1ms/step - loss: 0.6012 - accuracy: 0.8376\n",
      "Epoch 4/5\n",
      "919/919 [==============================] - 1s 1ms/step - loss: 0.4483 - accuracy: 0.8855\n",
      "Epoch 5/5\n",
      "919/919 [==============================] - 1s 1ms/step - loss: 0.3624 - accuracy: 0.9078\n"
     ]
    },
    {
     "data": {
      "text/plain": "<keras.callbacks.History at 0x2989f7e50>"
     },
     "execution_count": 11,
     "metadata": {},
     "output_type": "execute_result"
    }
   ],
   "source": [
    "# Remove output layer\n",
    "model_small.pop()\n",
    "\n",
    "# Freeze the remaining layers\n",
    "#for layer in model_small.layers:\n",
    "  #layer.trainable = False\n",
    "# can either freeze layers or set small learning rate as a general rule\n",
    "\n",
    "# Add new output layer\n",
    "model_large = Sequential(model_small.layers)\n",
    "model_large.add(Dense(5, activation='softmax'))\n",
    "\n",
    "# Filter dataset for digits 5-9 and adjust labels\n",
    "x_train_large = x_train[np.where(y_train>=5)[0]]\n",
    "y_train_large = y_train[np.where(y_train>=5)[0]] - 5\n",
    "\n",
    "# Compile model\n",
    "model_large.compile(optimizer=tf.keras.optimizers.Adam(learning_rate=1e-5), # small learning rate to prevent overfitting\n",
    "              loss=tf.keras.losses.SparseCategoricalCrossentropy(),\n",
    "              metrics=['accuracy'])\n",
    "\n",
    "# Train model\n",
    "model_large.fit(x_train_large, y_train_large, epochs=5)\n"
   ],
   "metadata": {
    "collapsed": false,
    "ExecuteTime": {
     "end_time": "2023-07-07T18:55:40.510937Z",
     "start_time": "2023-07-07T18:55:35.133858Z"
    }
   }
  },
  {
   "cell_type": "code",
   "execution_count": 9,
   "outputs": [
    {
     "name": "stdout",
     "output_type": "stream",
     "text": [
      "Epoch 1/5\n",
      "919/919 [==============================] - 1s 1ms/step - loss: 0.1743 - accuracy: 0.9472\n",
      "Epoch 2/5\n",
      "919/919 [==============================] - 1s 1ms/step - loss: 0.0729 - accuracy: 0.9765\n",
      "Epoch 3/5\n",
      "919/919 [==============================] - 1s 1ms/step - loss: 0.0485 - accuracy: 0.9852\n",
      "Epoch 4/5\n",
      "919/919 [==============================] - 1s 1ms/step - loss: 0.0350 - accuracy: 0.9892\n",
      "Epoch 5/5\n",
      "919/919 [==============================] - 1s 1ms/step - loss: 0.0261 - accuracy: 0.9921\n"
     ]
    },
    {
     "data": {
      "text/plain": "<keras.callbacks.History at 0x2987d19f0>"
     },
     "execution_count": 9,
     "metadata": {},
     "output_type": "execute_result"
    }
   ],
   "source": [
    "# Define model\n",
    "model_scratch = Sequential([\n",
    "  Flatten(input_shape=(28, 28)),\n",
    "  Dense(128, activation='relu'),\n",
    "  Dense(5, activation='softmax')\n",
    "])\n",
    "\n",
    "# Compile model\n",
    "model_scratch.compile(optimizer='adam',\n",
    "              loss=tf.keras.losses.SparseCategoricalCrossentropy(),\n",
    "              metrics=['accuracy'])\n",
    "\n",
    "# Train model\n",
    "model_scratch.fit(x_train_large, y_train_large, epochs=5)\n"
   ],
   "metadata": {
    "collapsed": false,
    "ExecuteTime": {
     "end_time": "2023-07-07T18:47:53.846962Z",
     "start_time": "2023-07-07T18:47:48.042125Z"
    }
   }
  },
  {
   "cell_type": "code",
   "execution_count": null,
   "outputs": [],
   "source": [],
   "metadata": {
    "collapsed": false
   }
  }
 ],
 "metadata": {
  "kernelspec": {
   "display_name": "Python 3",
   "language": "python",
   "name": "python3"
  },
  "language_info": {
   "codemirror_mode": {
    "name": "ipython",
    "version": 2
   },
   "file_extension": ".py",
   "mimetype": "text/x-python",
   "name": "python",
   "nbconvert_exporter": "python",
   "pygments_lexer": "ipython2",
   "version": "2.7.6"
  }
 },
 "nbformat": 4,
 "nbformat_minor": 0
}
