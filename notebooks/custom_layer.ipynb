{
 "cells": [
  {
   "cell_type": "code",
   "execution_count": 21,
   "metadata": {
    "collapsed": true,
    "ExecuteTime": {
     "end_time": "2023-06-17T19:07:54.618838Z",
     "start_time": "2023-06-17T19:07:54.612599Z"
    }
   },
   "outputs": [],
   "source": [
    "# Simple implementation of a custom layer\n",
    "import tensorflow as tf\n",
    "\n",
    "class CustomDense(tf.keras.layers.Layer):\n",
    "    def __init__(self, units=32, input_shape= 1 ,activation=None):\n",
    "        super().__init__()\n",
    "        self.units = units\n",
    "        self.activation = tf.keras.activations.get(activation)\n",
    "\n",
    "    def build(self, input_shape):\n",
    "        # Create a trainable weight variable for this layer.\n",
    "        self.kernel = self.add_weight(\"kernel\",\n",
    "                                      shape=(int(input_shape[-1]), self.units),\n",
    "                                      initializer='random_normal',\n",
    "                                      trainable=True)\n",
    "        self.bias = self.add_weight(\"bias\",\n",
    "                                    shape=(self.units,),\n",
    "                                    initializer='zeros',\n",
    "                                    trainable=True)\n",
    "        return\n",
    "\n",
    "    def call(self, inputs):\n",
    "        return self.activation(tf.linalg.matmul(inputs, self.kernel) + self.bias)\n",
    "\n"
   ]
  },
  {
   "cell_type": "markdown",
   "source": [
    "When creating a custom layer in TensorFlow, there are a few methods that you will need to implement and some that are optional but can provide extra functionality if needed.\n",
    "\n",
    "Here's a brief overview of them:\n",
    "\n",
    "init(): This method is called when the layer is created. It's used to initialize the layer and its parameters.\n",
    "build(input_shape): This method is used to create the layer's weights. The input_shape parameter is a tuple that contains the shape of the input data the layer will process. This method is the place where you can add weights that depend on the input shape.\n",
    "**call(inputs, kwargs): This is where the layer's logic lives. This method processes the inputs and applies operations using the weights initialized in the build method.\n",
    "The above methods are pretty much required for every custom layer. However, there are some optional methods that you might find useful:\n",
    "\n",
    "get_config(): This method is used to save the configuration of a layer. It returns a Python dictionary containing the configuration of the layer. The dictionary includes the layer's name, its parameters, and its weights.\n",
    "from_config(config): This method takes the output of get_config() to create a new layer instance that's identical to the one the configuration was saved from.\n",
    "compute_output_shape(input_shape): This method is used to compute the output shape of the layer given the input shape. It is useful when you want to stack multiple layers together and need to check if the output shape of one layer matches the input shape of the next layer.\n",
    "compute_mask(inputs, mask=None): This is used when your layer modifies the mask or creates a new one. By default, this is just pass through for any masks.\n",
    "Remember that the most important methods are build() and call(). Most of the time, you'll just need to implement these two methods to create a custom layer in TensorFlow."
   ],
   "metadata": {
    "collapsed": false
   }
  },
  {
   "cell_type": "code",
   "execution_count": 22,
   "outputs": [
    {
     "name": "stdout",
     "output_type": "stream",
     "text": [
      "Epoch 1/5\n",
      "1875/1875 [==============================] - 2s 1ms/step - loss: 0.3270 - accuracy: 0.9064\n",
      "Epoch 2/5\n",
      "1875/1875 [==============================] - 2s 1ms/step - loss: 0.1516 - accuracy: 0.9555\n",
      "Epoch 3/5\n",
      "1875/1875 [==============================] - 2s 1ms/step - loss: 0.1109 - accuracy: 0.9664\n",
      "Epoch 4/5\n",
      "1875/1875 [==============================] - 2s 1ms/step - loss: 0.0892 - accuracy: 0.9725\n",
      "Epoch 5/5\n",
      "1875/1875 [==============================] - 2s 1ms/step - loss: 0.0762 - accuracy: 0.9764\n"
     ]
    },
    {
     "data": {
      "text/plain": "<keras.callbacks.History at 0x2b38901f0>"
     },
     "execution_count": 22,
     "metadata": {},
     "output_type": "execute_result"
    }
   ],
   "source": [
    "# Loading the MNIST dataset\n",
    "(x_train, y_train), (x_test, y_test) = tf.keras.datasets.mnist.load_data()\n",
    "x_train, x_test = x_train / 255.0, x_test / 255.0  # Normalizing\n",
    "\n",
    "# Reshaping the data\n",
    "x_train = x_train.reshape(-1, 784)\n",
    "x_test = x_test.reshape(-1, 784)\n",
    "\n",
    "# Creating a model using our custom layer\n",
    "model = tf.keras.models.Sequential([\n",
    "    CustomDense(128, activation='relu'),\n",
    "    tf.keras.layers.Dropout(0.2),\n",
    "    CustomDense(10, activation='softmax')\n",
    "])\n",
    "\n",
    "# Compiling the model\n",
    "model.compile(optimizer='adam',\n",
    "              loss='sparse_categorical_crossentropy',\n",
    "              metrics=['accuracy'])\n",
    "\n",
    "# Training the model\n",
    "model.fit(x_train, y_train, epochs=5)\n",
    "\n"
   ],
   "metadata": {
    "collapsed": false,
    "ExecuteTime": {
     "end_time": "2023-06-17T19:08:06.741873Z",
     "start_time": "2023-06-17T19:07:55.376717Z"
    }
   }
  },
  {
   "cell_type": "code",
   "execution_count": 3,
   "outputs": [
    {
     "name": "stdout",
     "output_type": "stream",
     "text": [
      "313/313 [==============================] - 0s 439us/step - loss: 0.0764 - accuracy: 0.9772\n"
     ]
    },
    {
     "data": {
      "text/plain": "[0.07638876140117645, 0.9771999716758728]"
     },
     "execution_count": 3,
     "metadata": {},
     "output_type": "execute_result"
    }
   ],
   "source": [
    "# loss of 0.0788\n",
    "# Evaluating the model\n",
    "model.evaluate(x_test, y_test)\n"
   ],
   "metadata": {
    "collapsed": false,
    "ExecuteTime": {
     "end_time": "2023-06-17T18:42:50.946365Z",
     "start_time": "2023-06-17T18:42:50.652519Z"
    }
   }
  },
  {
   "cell_type": "code",
   "execution_count": null,
   "outputs": [],
   "source": [],
   "metadata": {
    "collapsed": false
   }
  }
 ],
 "metadata": {
  "kernelspec": {
   "display_name": "Python 3",
   "language": "python",
   "name": "python3"
  },
  "language_info": {
   "codemirror_mode": {
    "name": "ipython",
    "version": 2
   },
   "file_extension": ".py",
   "mimetype": "text/x-python",
   "name": "python",
   "nbconvert_exporter": "python",
   "pygments_lexer": "ipython2",
   "version": "2.7.6"
  }
 },
 "nbformat": 4,
 "nbformat_minor": 0
}
